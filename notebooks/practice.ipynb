{
 "cells": [
  {
   "attachments": {},
   "cell_type": "markdown",
   "metadata": {},
   "source": [
    "## IMPORTS"
   ]
  },
  {
   "cell_type": "code",
   "execution_count": 7,
   "metadata": {},
   "outputs": [],
   "source": [
    "import pandas as pd\n",
    "from sklearn.model_selection import train_test_split\n",
    "from sklearn.neural_network import MLPClassifier\n",
    "from joblib import dump, load\n",
    "from sklearn.metrics import multilabel_confusion_matrix\n",
    "from sklearn.metrics import classification_report\n",
    "\n",
    "from sklearn.metrics import confusion_matrix\n",
    "import math\n",
    "import numpy as np\n",
    "from sklearn.metrics import accuracy_score\n",
    "from tqdm import tqdm\n",
    "from sklearn.metrics import mean_squared_error\n",
    "import random"
   ]
  },
  {
   "attachments": {},
   "cell_type": "markdown",
   "metadata": {},
   "source": [
    "### Setting Up Files"
   ]
  },
  {
   "cell_type": "code",
   "execution_count": 8,
   "metadata": {},
   "outputs": [],
   "source": [
    "drugsx = pd.read_csv(r'drugs_x_train.csv')\n",
    "drugsy = pd.read_csv(r'drugs_y_train.csv')\n",
    "\n",
    "redx = pd.read_csv(r'winequality_red_x_train.csv')\n",
    "redy = pd.read_csv(r'winequality_red_y_train.csv')\n",
    "\n",
    "whitex = pd.read_csv(r'winequality_white_x_train.csv')\n",
    "whitey = pd.read_csv(r'winequality_white_y_train.csv')"
   ]
  },
  {
   "attachments": {},
   "cell_type": "markdown",
   "metadata": {},
   "source": [
    "## Splitting and creating the model for drugs:"
   ]
  },
  {
   "cell_type": "code",
   "execution_count": 9,
   "metadata": {},
   "outputs": [
    {
     "name": "stderr",
     "output_type": "stream",
     "text": [
      "c:\\Training\\Demo\\Python\\localenvs\\mltool\\env\\lib\\site-packages\\sklearn\\neural_network\\_multilayer_perceptron.py:679: ConvergenceWarning: Stochastic Optimizer: Maximum iterations (1000) reached and the optimization hasn't converged yet.\n",
      "  warnings.warn(\n"
     ]
    },
    {
     "data": {
      "text/plain": [
       "['drugmodel.joblib']"
      ]
     },
     "execution_count": 9,
     "metadata": {},
     "output_type": "execute_result"
    }
   ],
   "source": [
    "X_train, X_test, y_train, y_test = train_test_split(drugsx, drugsy, random_state=0, train_size=0.8)\n",
    "X_train = X_train.values\n",
    "y_train = y_train.values\n",
    "clf = MLPClassifier(random_state=0, max_iter=1000)\n",
    "clf.fit(X_train, y_train)\n",
    "model_file = \"drugmodel.joblib\"\n",
    "dump(clf, model_file)"
   ]
  },
  {
   "attachments": {},
   "cell_type": "markdown",
   "metadata": {},
   "source": [
    "Loading the model for drugs:"
   ]
  },
  {
   "cell_type": "code",
   "execution_count": 10,
   "metadata": {},
   "outputs": [],
   "source": [
    "X_test = X_test.values\n",
    "y_test = y_test.values"
   ]
  },
  {
   "cell_type": "code",
   "execution_count": 11,
   "metadata": {},
   "outputs": [
    {
     "name": "stdout",
     "output_type": "stream",
     "text": [
      "              precision    recall  f1-score   support\n",
      "\n",
      "           0       0.68      1.00      0.81        13\n",
      "           1       0.75      1.00      0.86         3\n",
      "           2       1.00      1.00      1.00         3\n",
      "           3       1.00      1.00      1.00         1\n",
      "\n",
      "   micro avg       0.74      1.00      0.85        20\n",
      "   macro avg       0.86      1.00      0.92        20\n",
      "weighted avg       0.76      1.00      0.86        20\n",
      " samples avg       0.74      0.74      0.74        20\n",
      "\n"
     ]
    }
   ],
   "source": [
    "def one_hot_encoding(nd_array):\n",
    "    one_hot_encoding_predictions = nd_array\n",
    "\n",
    "    for i in range(len(nd_array)):\n",
    "        max_pred = max(nd_array[i])\n",
    "\n",
    "        for j in range(len(nd_array[i])):\n",
    "            one_hot_encoding_predictions[i][j] = 1 if nd_array[i][j] == max_pred else 0\n",
    "\n",
    "    return one_hot_encoding_predictions\n",
    "\n",
    "predictions = clf.predict_proba(X_test)\n",
    "predictions = one_hot_encoding(predictions)\n",
    "benchmarks = multilabel_confusion_matrix(y_test, predictions)\n",
    "report = classification_report(y_test, predictions, zero_division=0)\n",
    "print(report)"
   ]
  },
  {
   "attachments": {},
   "cell_type": "markdown",
   "metadata": {},
   "source": [
    "## Benchmarking for drugs:"
   ]
  },
  {
   "cell_type": "code",
   "execution_count": 12,
   "metadata": {},
   "outputs": [],
   "source": [
    "#x_samples = []\n",
    "#y_samples = []\n",
    "#X_train, X_test, y_train, y_test = train_test_split(drugsx, drugsy, random_state=0, train_size=0.8)\n",
    "#def objective_function(x, y, x_validation, y_validation, params):\n",
    "#    model = MLPClassifier(\n",
    "#        random_state=1, \n",
    "#        max_iter=300,\n",
    "#        alpha=params['alpha'],\n",
    "#        learning_rate_init=params['learning_rate']\n",
    "#    )\n",
    "\n",
    "#    model.fit(x, y)\n",
    "\n",
    "#    predictions = model.predict(x_validation)\n",
    "\n",
    "#    return mean_squared_error(predictions, y_validation)\n",
    "\n",
    "#num_samples = 10\n",
    "#for i in range(num_samples):\n",
    "#    params = {\n",
    "#        'alpha': random.randrange(0, 100) * 0.0001,\n",
    "#        'learning_rate': random.randrange(0, 100) * 0.0001\n",
    "#    }\n",
    "\n",
    "#    loss = objective_function(X_train.values, y_train.values, X_test.values, y_test.values, params)\n",
    "#    print(\"Loss: {}\".format(loss))\n",
    "\n",
    "#    x1 = params['alpha']\n",
    "#    x2 = params['learning_rate']\n",
    "#    y = loss\n",
    "\n",
    "#    x_samples.append([x1, x2])\n",
    "#    y_samples.append([y])"
   ]
  },
  {
   "attachments": {},
   "cell_type": "markdown",
   "metadata": {},
   "source": [
    "## Splitting and creating a model for red wine quality:"
   ]
  },
  {
   "cell_type": "code",
   "execution_count": 13,
   "metadata": {},
   "outputs": [
    {
     "name": "stderr",
     "output_type": "stream",
     "text": [
      "c:\\Training\\Demo\\Python\\localenvs\\mltool\\env\\lib\\site-packages\\sklearn\\neural_network\\_multilayer_perceptron.py:679: ConvergenceWarning: Stochastic Optimizer: Maximum iterations (1000) reached and the optimization hasn't converged yet.\n",
      "  warnings.warn(\n"
     ]
    },
    {
     "data": {
      "text/plain": [
       "['redwinemodel.joblib']"
      ]
     },
     "execution_count": 13,
     "metadata": {},
     "output_type": "execute_result"
    }
   ],
   "source": [
    "X_train, X_test, y_train, y_test = train_test_split(redx, redy, random_state=0, train_size=0.8)\n",
    "X_train = X_train.values\n",
    "y_train = y_train.values\n",
    "clf = MLPClassifier(random_state=0, max_iter=1000)\n",
    "clf.fit(X_train, y_train)\n",
    "model_file = \"redwinemodel.joblib\"\n",
    "dump(clf, model_file)"
   ]
  },
  {
   "attachments": {},
   "cell_type": "markdown",
   "metadata": {},
   "source": [
    "Loading the model:"
   ]
  },
  {
   "cell_type": "code",
   "execution_count": 14,
   "metadata": {},
   "outputs": [],
   "source": [
    "X_test = X_test.values\n",
    "y_test = y_test.values"
   ]
  },
  {
   "cell_type": "code",
   "execution_count": 15,
   "metadata": {},
   "outputs": [
    {
     "name": "stdout",
     "output_type": "stream",
     "text": [
      "              precision    recall  f1-score   support\n",
      "\n",
      "           0       0.00      0.00      0.00         1\n",
      "           1       0.00      0.00      0.00         6\n",
      "           2       0.74      0.70      0.72       104\n",
      "           3       0.54      0.74      0.62        76\n",
      "           4       0.75      0.32      0.45        28\n",
      "           5       0.00      0.00      0.00         0\n",
      "\n",
      "   micro avg       0.64      0.64      0.64       215\n",
      "   macro avg       0.34      0.29      0.30       215\n",
      "weighted avg       0.64      0.64      0.63       215\n",
      " samples avg       0.64      0.64      0.64       215\n",
      "\n"
     ]
    }
   ],
   "source": [
    "def one_hot_encoding(nd_array):\n",
    "    one_hot_encoding_predictions = nd_array\n",
    "\n",
    "    for i in range(len(nd_array)):\n",
    "        max_pred = max(nd_array[i])\n",
    "\n",
    "        for j in range(len(nd_array[i])):\n",
    "            one_hot_encoding_predictions[i][j] = 1 if nd_array[i][j] == max_pred else 0\n",
    "\n",
    "    return one_hot_encoding_predictions\n",
    "\n",
    "predictions = clf.predict_proba(X_test)\n",
    "predictions = one_hot_encoding(predictions)\n",
    "benchmarks = multilabel_confusion_matrix(y_test, predictions)\n",
    "report = classification_report(y_test, predictions, zero_division = 0)\n",
    "print(report)"
   ]
  },
  {
   "attachments": {},
   "cell_type": "markdown",
   "metadata": {},
   "source": [
    "## Splitting and creating a model for white wine quality:"
   ]
  },
  {
   "cell_type": "code",
   "execution_count": 16,
   "metadata": {},
   "outputs": [
    {
     "data": {
      "text/plain": [
       "['whitewinemodel.joblib']"
      ]
     },
     "execution_count": 16,
     "metadata": {},
     "output_type": "execute_result"
    }
   ],
   "source": [
    "X_train, X_test, y_train, y_test = train_test_split(whitex, whitey, random_state=0, train_size=0.8)\n",
    "X_train = X_train.values\n",
    "y_train = y_train.values\n",
    "clf = MLPClassifier(random_state=0, max_iter=1000)\n",
    "clf.fit(X_train, y_train)\n",
    "model_file = \"whitewinemodel.joblib\"\n",
    "dump(clf, model_file)"
   ]
  },
  {
   "attachments": {},
   "cell_type": "markdown",
   "metadata": {},
   "source": [
    "Loading the model:"
   ]
  },
  {
   "cell_type": "code",
   "execution_count": 17,
   "metadata": {},
   "outputs": [],
   "source": [
    "X_test = X_test.values\n",
    "y_test = y_test.values"
   ]
  },
  {
   "cell_type": "code",
   "execution_count": 18,
   "metadata": {},
   "outputs": [
    {
     "name": "stdout",
     "output_type": "stream",
     "text": [
      "              precision    recall  f1-score   support\n",
      "\n",
      "           0       0.00      0.00      0.00         2\n",
      "           1       0.60      0.12      0.20        25\n",
      "           2       0.62      0.57      0.59       198\n",
      "           3       0.57      0.75      0.65       304\n",
      "           4       0.53      0.35      0.42       103\n",
      "           5       1.00      0.04      0.08        24\n",
      "           6       0.00      0.00      0.00         1\n",
      "\n",
      "   micro avg       0.58      0.58      0.58       657\n",
      "   macro avg       0.47      0.26      0.28       657\n",
      "weighted avg       0.59      0.58      0.56       657\n",
      " samples avg       0.58      0.58      0.58       657\n",
      "\n"
     ]
    }
   ],
   "source": [
    "def one_hot_encoding(nd_array):\n",
    "    one_hot_encoding_predictions = nd_array\n",
    "\n",
    "    for i in range(len(nd_array)):\n",
    "        max_pred = max(nd_array[i])\n",
    "\n",
    "        for j in range(len(nd_array[i])):\n",
    "            one_hot_encoding_predictions[i][j] = 1 if nd_array[i][j] == max_pred else 0\n",
    "\n",
    "    return one_hot_encoding_predictions\n",
    "\n",
    "predictions = clf.predict_proba(X_test)\n",
    "predictions = one_hot_encoding(predictions)\n",
    "benchmarks = multilabel_confusion_matrix(y_test, predictions)\n",
    "report = classification_report(y_test, predictions, zero_division = 0)\n",
    "print(report)"
   ]
  },
  {
   "cell_type": "code",
   "execution_count": null,
   "metadata": {},
   "outputs": [],
   "source": []
  }
 ],
 "metadata": {
  "kernelspec": {
   "display_name": "env",
   "language": "python",
   "name": "python3"
  },
  "language_info": {
   "codemirror_mode": {
    "name": "ipython",
    "version": 3
   },
   "file_extension": ".py",
   "mimetype": "text/x-python",
   "name": "python",
   "nbconvert_exporter": "python",
   "pygments_lexer": "ipython3",
   "version": "3.9.12"
  },
  "orig_nbformat": 4,
  "vscode": {
   "interpreter": {
    "hash": "ad96a442cc16bf55bebe7c1a7aa23af2ccad708ad967eb14cc2019c83adf39ef"
   }
  }
 },
 "nbformat": 4,
 "nbformat_minor": 2
}
